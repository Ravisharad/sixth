{
 "cells": [
  {
   "cell_type": "code",
   "execution_count": null,
   "id": "82f6f16a",
   "metadata": {},
   "outputs": [],
   "source": [
    "# 1. What are escape characters, and how do you use them?"
   ]
  },
  {
   "cell_type": "code",
   "execution_count": 1,
   "id": "c1d41d8c",
   "metadata": {},
   "outputs": [
    {
     "data": {
      "text/plain": [
       "\"what's happeing here\""
      ]
     },
     "execution_count": 1,
     "metadata": {},
     "output_type": "execute_result"
    }
   ],
   "source": [
    "#Escape character allow use of special charcters in string , they are preceeded with (\\).\n",
    "#eg\n",
    "s = \"what\\'s happeing here\"\n",
    "s"
   ]
  },
  {
   "cell_type": "code",
   "execution_count": null,
   "id": "d38a8875",
   "metadata": {},
   "outputs": [],
   "source": [
    "#2. What do the escape characters n and t stand for?"
   ]
  },
  {
   "cell_type": "code",
   "execution_count": 6,
   "id": "03fc04ee",
   "metadata": {},
   "outputs": [
    {
     "name": "stdout",
     "output_type": "stream",
     "text": [
      "world\n",
      "championship\n"
     ]
    }
   ],
   "source": [
    "# n is for new line\n",
    "print('world\\nchampionship')"
   ]
  },
  {
   "cell_type": "code",
   "execution_count": 7,
   "id": "36504de0",
   "metadata": {},
   "outputs": [
    {
     "name": "stdout",
     "output_type": "stream",
     "text": [
      "Indian\tEconomy\n"
     ]
    }
   ],
   "source": [
    "#\\t is for horizontal tab\n",
    "print('Indian\\tEconomy')"
   ]
  },
  {
   "cell_type": "code",
   "execution_count": null,
   "id": "d15d8d0d",
   "metadata": {},
   "outputs": [],
   "source": [
    "#3. What is the way to include backslash characters in a string?"
   ]
  },
  {
   "cell_type": "code",
   "execution_count": null,
   "id": "c756e8db",
   "metadata": {},
   "outputs": [],
   "source": [
    "# By using two backlash characters (\\\\) or using @ at begining of string"
   ]
  },
  {
   "cell_type": "code",
   "execution_count": null,
   "id": "6723779c",
   "metadata": {},
   "outputs": [],
   "source": [
    "# 4 The string \"Howl's Moving Castle\" is a correct value. Why isn't the single quote character\n",
    "# in the word Howl's not escaped a problem?"
   ]
  },
  {
   "cell_type": "code",
   "execution_count": 11,
   "id": "49c8a0d4",
   "metadata": {},
   "outputs": [
    {
     "data": {
      "text/plain": [
       "\"Howl's Moving Castle\""
      ]
     },
     "execution_count": 11,
     "metadata": {},
     "output_type": "execute_result"
    }
   ],
   "source": [
    "string = \"Howl's Moving Castle\"\n",
    "string has no escape character problem because it is enclosed in double quotes  "
   ]
  },
  {
   "cell_type": "code",
   "execution_count": 12,
   "id": "2e4711d8",
   "metadata": {},
   "outputs": [
    {
     "name": "stdout",
     "output_type": "stream",
     "text": [
      "hello python\n",
      "hello jupyter\n"
     ]
    }
   ],
   "source": [
    "#5 How do you write a string of newlines if you don't want to use the n character?\n",
    "#we can use print function in separate lines to print strings of newlines\n",
    "print('hello python')\n",
    "print('hello jupyter')"
   ]
  },
  {
   "cell_type": "code",
   "execution_count": null,
   "id": "0fbcd06e",
   "metadata": {},
   "outputs": [],
   "source": [
    "#6. What are the values of the given expressions?\n"
   ]
  },
  {
   "cell_type": "code",
   "execution_count": 13,
   "id": "4816aeb8",
   "metadata": {},
   "outputs": [
    {
     "data": {
      "text/plain": [
       "'e'"
      ]
     },
     "execution_count": 13,
     "metadata": {},
     "output_type": "execute_result"
    }
   ],
   "source": [
    "'Hello, world!'[1]"
   ]
  },
  {
   "cell_type": "code",
   "execution_count": 14,
   "id": "f160970d",
   "metadata": {},
   "outputs": [
    {
     "data": {
      "text/plain": [
       "'Hello'"
      ]
     },
     "execution_count": 14,
     "metadata": {},
     "output_type": "execute_result"
    }
   ],
   "source": [
    "'Hello, world!'[0:5]"
   ]
  },
  {
   "cell_type": "code",
   "execution_count": 15,
   "id": "e5f5570c",
   "metadata": {},
   "outputs": [
    {
     "data": {
      "text/plain": [
       "'Hello'"
      ]
     },
     "execution_count": 15,
     "metadata": {},
     "output_type": "execute_result"
    }
   ],
   "source": [
    "'Hello, world!'[:5]"
   ]
  },
  {
   "cell_type": "code",
   "execution_count": 16,
   "id": "860104d9",
   "metadata": {},
   "outputs": [
    {
     "data": {
      "text/plain": [
       "'lo, world!'"
      ]
     },
     "execution_count": 16,
     "metadata": {},
     "output_type": "execute_result"
    }
   ],
   "source": [
    "'Hello, world!'[3:]"
   ]
  },
  {
   "cell_type": "code",
   "execution_count": null,
   "id": "2bb5de16",
   "metadata": {},
   "outputs": [],
   "source": [
    "#7. What are the values of the following expressions?"
   ]
  },
  {
   "cell_type": "code",
   "execution_count": 17,
   "id": "6abb1499",
   "metadata": {},
   "outputs": [
    {
     "data": {
      "text/plain": [
       "'HELLO'"
      ]
     },
     "execution_count": 17,
     "metadata": {},
     "output_type": "execute_result"
    }
   ],
   "source": [
    "'Hello'.upper()"
   ]
  },
  {
   "cell_type": "code",
   "execution_count": 18,
   "id": "220b1c6c",
   "metadata": {},
   "outputs": [
    {
     "data": {
      "text/plain": [
       "True"
      ]
     },
     "execution_count": 18,
     "metadata": {},
     "output_type": "execute_result"
    }
   ],
   "source": [
    "'Hello'.upper().isupper()"
   ]
  },
  {
   "cell_type": "code",
   "execution_count": 19,
   "id": "e8d4931e",
   "metadata": {},
   "outputs": [
    {
     "data": {
      "text/plain": [
       "'hello'"
      ]
     },
     "execution_count": 19,
     "metadata": {},
     "output_type": "execute_result"
    }
   ],
   "source": [
    "'Hello'.upper().lower()"
   ]
  },
  {
   "cell_type": "code",
   "execution_count": null,
   "id": "2c5b8a70",
   "metadata": {},
   "outputs": [],
   "source": [
    "# 8. What are the values of the following expressions?"
   ]
  },
  {
   "cell_type": "code",
   "execution_count": 20,
   "id": "de11cdb7",
   "metadata": {},
   "outputs": [
    {
     "data": {
      "text/plain": [
       "['Remember,', 'remember,', 'the', 'fifth', 'of', 'July.']"
      ]
     },
     "execution_count": 20,
     "metadata": {},
     "output_type": "execute_result"
    }
   ],
   "source": [
    "'Remember, remember, the fifth of July.'.split()"
   ]
  },
  {
   "cell_type": "code",
   "execution_count": 21,
   "id": "06c5e042",
   "metadata": {},
   "outputs": [
    {
     "data": {
      "text/plain": [
       "'There-can-only-one.'"
      ]
     },
     "execution_count": 21,
     "metadata": {},
     "output_type": "execute_result"
    }
   ],
   "source": [
    "'-'.join('There can only one.'.split())"
   ]
  },
  {
   "cell_type": "code",
   "execution_count": null,
   "id": "7a87565f",
   "metadata": {},
   "outputs": [],
   "source": [
    "# 9. What are the methods for right-justifying, left-justifying, and centering a string?"
   ]
  },
  {
   "cell_type": "code",
   "execution_count": null,
   "id": "80c31081",
   "metadata": {},
   "outputs": [],
   "source": [
    "for right justifying =str.rjust()\n",
    "left = str.ljust()\n",
    "center = str.center()"
   ]
  },
  {
   "cell_type": "code",
   "execution_count": null,
   "id": "59a39ed6",
   "metadata": {},
   "outputs": [],
   "source": [
    "#10 What is the best way to remove whitespace characters from the start or end?"
   ]
  },
  {
   "cell_type": "code",
   "execution_count": null,
   "id": "ca1e1aac",
   "metadata": {},
   "outputs": [],
   "source": [
    "to remove blank space use 'fillchar'"
   ]
  },
  {
   "cell_type": "code",
   "execution_count": null,
   "id": "abf32e83",
   "metadata": {},
   "outputs": [],
   "source": []
  }
 ],
 "metadata": {
  "kernelspec": {
   "display_name": "Python 3",
   "language": "python",
   "name": "python3"
  },
  "language_info": {
   "codemirror_mode": {
    "name": "ipython",
    "version": 3
   },
   "file_extension": ".py",
   "mimetype": "text/x-python",
   "name": "python",
   "nbconvert_exporter": "python",
   "pygments_lexer": "ipython3",
   "version": "3.8.8"
  }
 },
 "nbformat": 4,
 "nbformat_minor": 5
}
